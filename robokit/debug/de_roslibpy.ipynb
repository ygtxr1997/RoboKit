{
 "cells": [
  {
   "cell_type": "code",
   "execution_count": 3,
   "metadata": {},
   "outputs": [],
   "source": [
    "import roslibpy\n",
    "from tqdm import tqdm\n",
    "\n",
    "client = roslibpy.Ros(host='192.168.1.7', port=9090) # Change host to the IP of the robot\n",
    "client.run()"
   ]
  },
  {
   "cell_type": "code",
   "execution_count": 12,
   "metadata": {},
   "outputs": [
    {
     "name": "stderr",
     "output_type": "stream",
     "text": [
      " 87%|████████▋ | 100/115 [00:09<00:01, 10.06it/s]"
     ]
    },
    {
     "name": "stdout",
     "output_type": "stream",
     "text": [
      "/devices/robotiqd/gripper_state\n",
      "/devices/robotiqd/gripper_command/result\n"
     ]
    },
    {
     "name": "stderr",
     "output_type": "stream",
     "text": [
      " 90%|█████████ | 104/115 [00:09<00:01, 10.55it/s]"
     ]
    },
    {
     "name": "stdout",
     "output_type": "stream",
     "text": [
      "/devices/robotiqd/gripper_command/feedback\n",
      "/devices/robotiqd/gripper_command/status\n",
      "/devices/robotiqd/grip/result\n"
     ]
    },
    {
     "name": "stderr",
     "output_type": "stream",
     "text": [
      " 92%|█████████▏| 106/115 [00:09<00:00, 10.79it/s]"
     ]
    },
    {
     "name": "stdout",
     "output_type": "stream",
     "text": [
      "/devices/robotiqd/grip/feedback\n",
      "/devices/robotiqd/grip/status\n",
      "/devices/robotiqd/grip/goal\n"
     ]
    },
    {
     "name": "stderr",
     "output_type": "stream",
     "text": [
      " 96%|█████████▌| 110/115 [00:10<00:00, 10.94it/s]"
     ]
    },
    {
     "name": "stdout",
     "output_type": "stream",
     "text": [
      "/devices/robotiqd/grip/cancel\n",
      "/devices/robotiqd/gripper_command/goal\n",
      "/devices/robotiqd/gripper_command/cancel\n"
     ]
    },
    {
     "name": "stderr",
     "output_type": "stream",
     "text": [
      "100%|██████████| 115/115 [00:10<00:00, 10.69it/s]\n"
     ]
    }
   ],
   "source": [
    "topics = client.get_topics()\n",
    "for topic in tqdm(topics):\n",
    "    if \"grip\" in topic.lower():\n",
    "        print(topic)\n",
    "    topic_type = client.get_topic_type(topic=topic)\n",
    "    if 'joint' in str(topic).lower():\n",
    "        continue\n",
    "    # message_info = client.get_message_details(message_type=topic_type)\n",
    "    # message_info = str(dict(message_info)).lower()\n",
    "    # if ('speed' in message_info or 'velo' in message_info):\n",
    "    #     print(topic)\n",
    "    #     print(str(message_info))"
   ]
  },
  {
   "cell_type": "code",
   "execution_count": 22,
   "metadata": {},
   "outputs": [
    {
     "name": "stdout",
     "output_type": "stream",
     "text": [
      "gripper_msgs/GripperBasicCommandActionResult\n",
      "{'typedefs': [{'type': 'gripper_msgs/GripperBasicCommandActionResult', 'fieldnames': ['header', 'status', 'result'], 'fieldtypes': ['std_msgs/Header', 'actionlib_msgs/GoalStatus', 'gripper_msgs/GripperBasicCommandResult'], 'fieldarraylen': [-1, -1, -1], 'examples': ['{}', '{}', '{}'], 'constnames': [], 'constvalues': []}, {'type': 'std_msgs/Header', 'fieldnames': ['seq', 'stamp', 'frame_id'], 'fieldtypes': ['uint32', 'time', 'string'], 'fieldarraylen': [-1, -1, -1], 'examples': ['0', '{}', ''], 'constnames': [], 'constvalues': []}, {'type': 'time', 'fieldnames': ['secs', 'nsecs'], 'fieldtypes': ['int32', 'int32'], 'fieldarraylen': [-1, -1], 'examples': ['0', '0'], 'constnames': [], 'constvalues': []}, {'type': 'actionlib_msgs/GoalStatus', 'fieldnames': ['goal_id', 'status', 'text'], 'fieldtypes': ['actionlib_msgs/GoalID', 'uint8', 'string'], 'fieldarraylen': [-1, -1, -1], 'examples': ['{}', '0', ''], 'constnames': ['ABORTED', 'ACTIVE', 'LOST', 'PENDING', 'PREEMPTED', 'PREEMPTING', 'RECALLED', 'RECALLING', 'REJECTED', 'SUCCEEDED'], 'constvalues': ['4', '1', '9', '0', '2', '6', '8', '7', '5', '3']}, {'type': 'actionlib_msgs/GoalID', 'fieldnames': ['stamp', 'id'], 'fieldtypes': ['time', 'string'], 'fieldarraylen': [-1, -1], 'examples': ['{}', ''], 'constnames': [], 'constvalues': []}, {'type': 'gripper_msgs/GripperBasicCommandResult', 'fieldnames': [], 'fieldtypes': [], 'fieldarraylen': [], 'examples': [], 'constnames': [], 'constvalues': []}]}\n"
     ]
    }
   ],
   "source": [
    "my_topic = \"/devices/robotiqd/grip/result\"\n",
    "topic_type = client.get_topic_type(topic=my_topic)\n",
    "print(topic_type)\n",
    "message_info = client.get_message_details(message_type=topic_type)\n",
    "print(message_info)"
   ]
  },
  {
   "cell_type": "code",
   "execution_count": 19,
   "metadata": {},
   "outputs": [],
   "source": [
    "publisher = roslibpy.Topic(\n",
    "    client, my_topic, topic_type\n",
    ")\n",
    "publisher.publish(roslibpy.Message({\n",
    "    \"goal\": {\n",
    "        \"action\": 2\n",
    "    }\n",
    "}))"
   ]
  }
 ],
 "metadata": {
  "kernelspec": {
   "display_name": "ros_env",
   "language": "python",
   "name": "python3"
  },
  "language_info": {
   "codemirror_mode": {
    "name": "ipython",
    "version": 3
   },
   "file_extension": ".py",
   "mimetype": "text/x-python",
   "name": "python",
   "nbconvert_exporter": "python",
   "pygments_lexer": "ipython3",
   "version": "3.11.11"
  }
 },
 "nbformat": 4,
 "nbformat_minor": 2
}
