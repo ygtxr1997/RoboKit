{
 "cells": [
  {
   "cell_type": "code",
   "id": "initial_id",
   "metadata": {
    "collapsed": true,
    "ExecuteTime": {
     "end_time": "2025-04-15T06:34:46.530968Z",
     "start_time": "2025-04-15T06:34:46.510543Z"
    }
   },
   "source": [
    "import os\n",
    "from pathlib import Path\n",
    "import numpy as np\n",
    "\n",
    "calvin_root = Path(\"/home/geyuan/Documents/code/github/calvin/dataset\")\n",
    "debug_root = calvin_root / \"calvin_debug_dataset\"\n",
    "\n",
    "debug_npz = debug_root / \"validation\" / \"episode_0555238.npz\"\n",
    "data = np.load(debug_npz, allow_pickle=True)\n",
    "data = dict(data)\n",
    "print(data.keys())\n",
    "\n",
    "debug_npz = debug_root / \"validation\" / \"episode_0555241.npz\"\n",
    "data_next = np.load(debug_npz, allow_pickle=True)\n",
    "data_next = dict(data_next)\n",
    "print(data_next.keys())"
   ],
   "outputs": [
    {
     "name": "stdout",
     "output_type": "stream",
     "text": [
      "dict_keys(['actions', 'rel_actions', 'robot_obs', 'scene_obs', 'rgb_static', 'rgb_gripper', 'rgb_tactile', 'depth_static', 'depth_gripper', 'depth_tactile'])\n",
      "dict_keys(['actions', 'rel_actions', 'robot_obs', 'scene_obs', 'rgb_static', 'rgb_gripper', 'rgb_tactile', 'depth_static', 'depth_gripper', 'depth_tactile'])\n"
     ]
    }
   ],
   "execution_count": 10
  },
  {
   "metadata": {
    "ExecuteTime": {
     "end_time": "2025-04-15T06:34:47.669732Z",
     "start_time": "2025-04-15T06:34:47.664309Z"
    }
   },
   "cell_type": "code",
   "source": [
    "print(data['actions'])\n",
    "print(data['rel_actions'])\n",
    "\n",
    "print(data_next['actions'])\n",
    "print(data_next['rel_actions'])\n",
    "\n",
    "print(data_next['robot_obs'])"
   ],
   "id": "beb391850b2590d4",
   "outputs": [
    {
     "name": "stdout",
     "output_type": "stream",
     "text": [
      "[ 0.20342317 -0.20109401  0.57633358 -3.08494937 -0.0242977   1.37457119\n",
      "  1.        ]\n",
      "[ 0.06427866  0.15282352  0.12859965 -0.08731788 -0.25844793  0.03729822\n",
      "  1.        ]\n",
      "[ 0.20874352 -0.19461876  0.58603441 -3.11756437 -0.04976826  1.35973173\n",
      "  1.        ]\n",
      "[ 0.11388268  0.12948298  0.21990428 -0.42572542 -0.16939876 -0.10176118\n",
      "  1.        ]\n",
      "[ 0.20646586 -0.19720842  0.58163632 -3.0962781  -0.04129832  1.36481979\n",
      "  0.08000005 -0.71666088  1.0141304   1.72679476 -1.66559856 -0.94482842\n",
      "  1.51474499  0.4409776   1.        ]\n"
     ]
    }
   ],
   "execution_count": 11
  }
 ],
 "metadata": {
  "kernelspec": {
   "display_name": "Python 3",
   "language": "python",
   "name": "python3"
  },
  "language_info": {
   "codemirror_mode": {
    "name": "ipython",
    "version": 2
   },
   "file_extension": ".py",
   "mimetype": "text/x-python",
   "name": "python",
   "nbconvert_exporter": "python",
   "pygments_lexer": "ipython2",
   "version": "2.7.6"
  }
 },
 "nbformat": 4,
 "nbformat_minor": 5
}
