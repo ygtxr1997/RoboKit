{
 "cells": [
  {
   "cell_type": "code",
   "id": "initial_id",
   "metadata": {
    "collapsed": true,
    "ExecuteTime": {
     "end_time": "2025-04-16T04:08:45.837122Z",
     "start_time": "2025-04-16T04:08:45.814399Z"
    }
   },
   "source": [
    "import os\n",
    "from pathlib import Path\n",
    "import numpy as np\n",
    "\n",
    "calvin_root = Path(\"/home/geyuan/Documents/code/github/calvin/dataset\")\n",
    "debug_root = calvin_root / \"calvin_debug_dataset\"\n",
    "\n",
    "debug_npz = debug_root / \"validation\" / \"episode_0555230.npz\"\n",
    "data = np.load(debug_npz, allow_pickle=True)\n",
    "data = dict(data)\n",
    "print(data.keys())\n",
    "\n",
    "debug_npz = debug_root / \"validation\" / \"episode_0555239.npz\"\n",
    "data_next = np.load(debug_npz, allow_pickle=True)\n",
    "data_next = dict(data_next)\n",
    "print(data_next.keys())"
   ],
   "outputs": [
    {
     "name": "stdout",
     "output_type": "stream",
     "text": [
      "dict_keys(['actions', 'rel_actions', 'robot_obs', 'scene_obs', 'rgb_static', 'rgb_gripper', 'rgb_tactile', 'depth_static', 'depth_gripper', 'depth_tactile'])\n",
      "dict_keys(['actions', 'rel_actions', 'robot_obs', 'scene_obs', 'rgb_static', 'rgb_gripper', 'rgb_tactile', 'depth_static', 'depth_gripper', 'depth_tactile'])\n"
     ]
    }
   ],
   "execution_count": 21
  },
  {
   "metadata": {
    "ExecuteTime": {
     "end_time": "2025-04-16T06:34:29.346663Z",
     "start_time": "2025-04-16T06:34:29.338686Z"
    }
   },
   "cell_type": "code",
   "source": [
    "print(data['actions'])\n",
    "print(data['rel_actions'])\n",
    "\n",
    "print(data_next['actions'])\n",
    "print(data_next['rel_actions'])\n",
    "\n",
    "action_diff = data_next['actions'] - data['actions']\n",
    "# print(action_diff)\n",
    "# print(data['rel_actions'] / action_diff)\n",
    "\n",
    "print(data['actions'] - (data['rel_actions'] / 20))\n",
    "print(data_next['actions'] - (data_next['rel_actions'] / 20))\n",
    "\n",
    "# print(data_next['robot_obs'])"
   ],
   "id": "beb391850b2590d4",
   "outputs": [
    {
     "name": "stdout",
     "output_type": "stream",
     "text": [
      "[ 0.17941478 -0.22235136  0.54941897 -3.10612632  0.01237542  1.40937619\n",
      "  1.        ]\n",
      "[-0.12257937  0.06286622 -0.23979259  1.          0.51794001 -0.23362162\n",
      "  1.        ]\n",
      "[ 0.20483012 -0.19915742  0.57857095 -3.09033913 -0.03313001  1.37070567\n",
      "  1.        ]\n",
      "[ 0.0703479   0.09682951  0.11186848 -0.10779504 -0.1766461  -0.07731046\n",
      "  1.        ]\n",
      "[ 0.18554375 -0.22549467  0.5614086  -3.15612632 -0.01352158  1.42105727\n",
      "  0.95      ]\n",
      "[ 0.20131273 -0.20399889  0.57297752 -3.08494937 -0.0242977   1.37457119\n",
      "  0.95      ]\n"
     ]
    }
   ],
   "execution_count": 22
  },
  {
   "metadata": {
    "ExecuteTime": {
     "end_time": "2025-04-16T08:16:38.285777Z",
     "start_time": "2025-04-16T08:16:38.282052Z"
    }
   },
   "cell_type": "code",
   "source": [
    "print(data['rgb_static'].dtype)\n",
    "print(data['depth_static'].dtype, data['depth_static'].max(), data['depth_static'].min())\n",
    "print(data['depth_gripper'].dtype, data['depth_gripper'].max(), data['depth_gripper'].min())"
   ],
   "id": "27cb896f17799d0c",
   "outputs": [
    {
     "name": "stdout",
     "output_type": "stream",
     "text": [
      "uint8\n",
      "float32 6.2016563 3.6808932\n",
      "float32 0.93870103 0.082857035\n"
     ]
    }
   ],
   "execution_count": 27
  }
 ],
 "metadata": {
  "kernelspec": {
   "display_name": "Python 3",
   "language": "python",
   "name": "python3"
  },
  "language_info": {
   "codemirror_mode": {
    "name": "ipython",
    "version": 2
   },
   "file_extension": ".py",
   "mimetype": "text/x-python",
   "name": "python",
   "nbconvert_exporter": "python",
   "pygments_lexer": "ipython2",
   "version": "2.7.6"
  }
 },
 "nbformat": 4,
 "nbformat_minor": 5
}
