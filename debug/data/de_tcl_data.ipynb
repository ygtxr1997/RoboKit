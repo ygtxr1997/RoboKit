{
 "cells": [
  {
   "cell_type": "code",
   "execution_count": 3,
   "id": "e084b06be517371b",
   "metadata": {},
   "outputs": [],
   "source": [
    "import mediapy\n",
    "import numpy as np\n",
    "from tqdm import tqdm\n",
    "\n",
    "from robokit.data.tcl_datasets import TCLDataset\n",
    "from robokit.debug_utils.images import concatenate_rgb_images, plot_action_wrt_time\n"
   ]
  },
  {
   "cell_type": "code",
   "execution_count": 4,
   "id": "10cd846e87ce1d63",
   "metadata": {},
   "outputs": [
    {
     "ename": "FileNotFoundError",
     "evalue": "[Errno 2] No such file or directory: '../collected_data_0422'",
     "output_type": "error",
     "traceback": [
      "\u001b[0;31m---------------------------------------------------------------------------\u001b[0m",
      "\u001b[0;31mFileNotFoundError\u001b[0m                         Traceback (most recent call last)",
      "Cell \u001b[0;32mIn[4], line 1\u001b[0m\n\u001b[0;32m----> 1\u001b[0m dataset \u001b[38;5;241m=\u001b[39m \u001b[43mTCLDataset\u001b[49m\u001b[43m(\u001b[49m\u001b[43mroot\u001b[49m\u001b[38;5;241;43m=\u001b[39;49m\u001b[38;5;124;43m\"\u001b[39;49m\u001b[38;5;124;43m../collected_data_0422\u001b[39;49m\u001b[38;5;124;43m\"\u001b[39;49m\u001b[43m)\u001b[49m\n",
      "File \u001b[0;32m~/Documents/code/RoboKit/src/robokit/data/tcl_datasets.py:15\u001b[0m, in \u001b[0;36mTCLDataset.__init__\u001b[0;34m(self, root, use_extracted)\u001b[0m\n\u001b[1;32m     12\u001b[0m \u001b[38;5;28msuper\u001b[39m(TCLDataset, \u001b[38;5;28mself\u001b[39m)\u001b[38;5;241m.\u001b[39m\u001b[38;5;21m__init__\u001b[39m()\n\u001b[1;32m     13\u001b[0m \u001b[38;5;28mself\u001b[39m\u001b[38;5;241m.\u001b[39mroot \u001b[38;5;241m=\u001b[39m root\n\u001b[0;32m---> 15\u001b[0m \u001b[38;5;28mself\u001b[39m\u001b[38;5;241m.\u001b[39mtasks \u001b[38;5;241m=\u001b[39m \u001b[38;5;28;43mself\u001b[39;49m\u001b[38;5;241;43m.\u001b[39;49m\u001b[43mget_tasks\u001b[49m\u001b[43m(\u001b[49m\u001b[43mroot\u001b[49m\u001b[43m)\u001b[49m\n\u001b[1;32m     16\u001b[0m \u001b[38;5;28mself\u001b[39m\u001b[38;5;241m.\u001b[39mtask_lengths \u001b[38;5;241m=\u001b[39m []\n\u001b[1;32m     17\u001b[0m \u001b[38;5;28mself\u001b[39m\u001b[38;5;241m.\u001b[39mep_fns \u001b[38;5;241m=\u001b[39m []\n",
      "File \u001b[0;32m~/Documents/code/RoboKit/src/robokit/data/tcl_datasets.py:39\u001b[0m, in \u001b[0;36mTCLDataset.get_tasks\u001b[0;34m(self, root)\u001b[0m\n\u001b[1;32m     37\u001b[0m \u001b[38;5;28mself\u001b[39m\u001b[38;5;241m.\u001b[39mroot \u001b[38;5;241m=\u001b[39m root\n\u001b[1;32m     38\u001b[0m tasks \u001b[38;5;241m=\u001b[39m []\n\u001b[0;32m---> 39\u001b[0m \u001b[38;5;28;01mfor\u001b[39;00m task \u001b[38;5;129;01min\u001b[39;00m \u001b[43mos\u001b[49m\u001b[38;5;241;43m.\u001b[39;49m\u001b[43mlistdir\u001b[49m\u001b[43m(\u001b[49m\u001b[43mroot\u001b[49m\u001b[43m)\u001b[49m:\n\u001b[1;32m     40\u001b[0m     \u001b[38;5;28;01mif\u001b[39;00m \u001b[38;5;129;01mnot\u001b[39;00m os\u001b[38;5;241m.\u001b[39mpath\u001b[38;5;241m.\u001b[39misdir(os\u001b[38;5;241m.\u001b[39mpath\u001b[38;5;241m.\u001b[39mjoin(root, task)):\n\u001b[1;32m     41\u001b[0m         \u001b[38;5;28;01mcontinue\u001b[39;00m\n",
      "\u001b[0;31mFileNotFoundError\u001b[0m: [Errno 2] No such file or directory: '../collected_data_0422'"
     ]
    }
   ],
   "source": [
    "dataset = TCLDataset(root=\"collected_data_0422\")"
   ]
  },
  {
   "cell_type": "code",
   "execution_count": null,
   "id": "b290e944aa488baa",
   "metadata": {},
   "outputs": [],
   "source": [
    "global_idx = 0\n",
    "\n",
    "task_skip_idx = 2\n",
    "fps = 30\n",
    "\n",
    "# task_skip_idx = 35\n",
    "# fps = 5\n",
    "\n",
    "print(\"Total tasks:\", len(dataset.tasks))\n",
    "\n",
    "for task_idx, task in enumerate(dataset.tasks):\n",
    "    task_length = dataset.task_lengths[task_idx]\n",
    "    images_primary, images_gripper = [], []\n",
    "    images_cat = []\n",
    "    actions = []\n",
    "\n",
    "    if task_idx < task_skip_idx:\n",
    "        global_idx += task_length\n",
    "        continue\n",
    "    \n",
    "    for frame_idx in tqdm(range(task_length)):\n",
    "        frame_data = dataset[global_idx]\n",
    "        global_idx += 1\n",
    "        \n",
    "        images_primary.append(frame_data['primary_rgb'])\n",
    "        images_gripper.append(frame_data['gripper_rgb'])\n",
    "        images_cat.append(concatenate_rgb_images(frame_data['primary_rgb'], frame_data['gripper_rgb'], vertical=True))\n",
    "        actions.append(frame_data['rel_actions'])\n",
    "\n",
    "    all_vis = []\n",
    "    actions_vis, fig, ax = plot_action_wrt_time(np.array(actions))\n",
    "    for frame_idx in range(task_length):\n",
    "        all_vis.append(concatenate_rgb_images(images_cat[frame_idx], actions_vis[frame_idx], \n",
    "                                              vertical=False, smaller_size=1))\n",
    "\n",
    "    mediapy.show_video(all_vis, fps=fps)\n",
    "\n",
    "    break"
   ]
  },
  {
   "cell_type": "code",
   "execution_count": null,
   "id": "991cdf66ce6bb73b",
   "metadata": {},
   "outputs": [],
   "source": [
    "global_idx = 0\n",
    "\n",
    "# task_skip_idx = 2\n",
    "# fps = 30\n",
    "\n",
    "task_skip_idx = 35\n",
    "fps = 5\n",
    "\n",
    "print(\"Total tasks:\", len(dataset.tasks))\n",
    "\n",
    "for task_idx, task in enumerate(dataset.tasks):\n",
    "    task_length = dataset.task_lengths[task_idx]\n",
    "    images_primary, images_gripper = [], []\n",
    "    images_cat = []\n",
    "    actions = []\n",
    "\n",
    "    if task_idx < task_skip_idx:\n",
    "        global_idx += task_length\n",
    "        continue\n",
    "    \n",
    "    for frame_idx in tqdm(range(task_length)):\n",
    "        frame_data = dataset[global_idx]\n",
    "        global_idx += 1\n",
    "        \n",
    "        images_primary.append(frame_data['primary_rgb'])\n",
    "        images_gripper.append(frame_data['gripper_rgb'])\n",
    "        images_cat.append(concatenate_rgb_images(frame_data['primary_rgb'], frame_data['gripper_rgb'], vertical=True))\n",
    "        actions.append(frame_data['rel_actions'])\n",
    "\n",
    "    all_vis = []\n",
    "    actions_vis, fig, ax = plot_action_wrt_time(np.array(actions))\n",
    "    for frame_idx in range(task_length):\n",
    "        all_vis.append(concatenate_rgb_images(images_cat[frame_idx], actions_vis[frame_idx], \n",
    "                                              vertical=False, smaller_size=1))\n",
    "\n",
    "    mediapy.show_video(all_vis, fps=fps)\n",
    "\n",
    "    break"
   ]
  },
  {
   "cell_type": "code",
   "execution_count": null,
   "id": "4cc84f29d682d4e",
   "metadata": {},
   "outputs": [],
   "source": []
  }
 ],
 "metadata": {
  "kernelspec": {
   "display_name": "Python 3 (ipykernel)",
   "language": "python",
   "name": "python3"
  },
  "language_info": {
   "codemirror_mode": {
    "name": "ipython",
    "version": 3
   },
   "file_extension": ".py",
   "mimetype": "text/x-python",
   "name": "python",
   "nbconvert_exporter": "python",
   "pygments_lexer": "ipython3",
   "version": "3.10.16"
  }
 },
 "nbformat": 4,
 "nbformat_minor": 5
}
