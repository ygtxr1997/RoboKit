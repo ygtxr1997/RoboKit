{
 "cells": [
  {
   "cell_type": "code",
   "metadata": {
    "ExecuteTime": {
     "end_time": "2025-04-10T03:02:17.993643Z",
     "start_time": "2025-04-10T03:02:17.869104Z"
    }
   },
   "source": [
    "import roslibpy\n",
    "import roslibpy.actionlib\n",
    "from tqdm import tqdm\n",
    "import time\n",
    "\n",
    "client = roslibpy.Ros(host='192.168.1.7', port=9090) # Change host to the IP of the robot\n",
    "client.run()"
   ],
   "outputs": [],
   "execution_count": 2
  },
  {
   "cell_type": "code",
   "metadata": {
    "ExecuteTime": {
     "end_time": "2025-04-09T09:49:12.132704Z",
     "start_time": "2025-04-09T09:49:02.889788Z"
    }
   },
   "source": [
    "topics = client.get_topics()\n",
    "for topic in tqdm(topics):\n",
    "    topic_type = client.get_topic_type(topic=topic)\n",
    "    if \"default_move_group/move\" in topic.lower():\n",
    "        print(topic)\n",
    "    # if 'command' in str(topic_type).lower():\n",
    "    #     print(topic, topic_type)"
   ],
   "outputs": [
    {
     "name": "stderr",
     "output_type": "stream",
     "text": [
      " 24%|██▍       | 28/115 [00:02<00:06, 12.53it/s]"
     ]
    },
    {
     "name": "stdout",
     "output_type": "stream",
     "text": [
      "/default_move_group/move/result\n",
      "/default_move_group/move/feedback\n",
      "/default_move_group/move/status\n"
     ]
    },
    {
     "name": "stderr",
     "output_type": "stream",
     "text": [
      " 26%|██▌       | 30/115 [00:02<00:06, 12.58it/s]"
     ]
    },
    {
     "name": "stdout",
     "output_type": "stream",
     "text": [
      "/default_move_group/move_group_info\n"
     ]
    },
    {
     "name": "stderr",
     "output_type": "stream",
     "text": [
      " 49%|████▊     | 56/115 [00:04<00:04, 12.98it/s]"
     ]
    },
    {
     "name": "stdout",
     "output_type": "stream",
     "text": [
      "/default_move_group/move/goal\n",
      "/default_move_group/move/cancel\n"
     ]
    },
    {
     "name": "stderr",
     "output_type": "stream",
     "text": [
      "100%|██████████| 115/115 [00:09<00:00, 12.71it/s]\n"
     ]
    }
   ],
   "execution_count": 28
  },
  {
   "cell_type": "code",
   "metadata": {
    "ExecuteTime": {
     "end_time": "2025-04-09T09:51:28.262341Z",
     "start_time": "2025-04-09T09:51:28.132595Z"
    }
   },
   "source": [
    "my_topic = \"/default_move_group/cartesian_jog\"\n",
    "topic_type = client.get_topic_type(topic=my_topic)\n",
    "print(topic_type)\n",
    "message_info = client.get_message_details(message_type=topic_type)\n",
    "print(message_info)"
   ],
   "outputs": [
    {
     "name": "stdout",
     "output_type": "stream",
     "text": [
      "commander_msgs/CartesianJogDemand\n",
      "{'typedefs': [{'type': 'commander_msgs/CartesianJogDemand', 'fieldnames': ['header', 'twist', 'tcp_id'], 'fieldtypes': ['std_msgs/Header', 'geometry_msgs/Twist', 'string'], 'fieldarraylen': [-1, -1, -1], 'examples': ['{}', '{}', ''], 'constnames': [], 'constvalues': []}, {'type': 'std_msgs/Header', 'fieldnames': ['seq', 'stamp', 'frame_id'], 'fieldtypes': ['uint32', 'time', 'string'], 'fieldarraylen': [-1, -1, -1], 'examples': ['0', '{}', ''], 'constnames': [], 'constvalues': []}, {'type': 'time', 'fieldnames': ['secs', 'nsecs'], 'fieldtypes': ['int32', 'int32'], 'fieldarraylen': [-1, -1], 'examples': ['0', '0'], 'constnames': [], 'constvalues': []}, {'type': 'geometry_msgs/Twist', 'fieldnames': ['linear', 'angular'], 'fieldtypes': ['geometry_msgs/Vector3', 'geometry_msgs/Vector3'], 'fieldarraylen': [-1, -1], 'examples': ['{}', '{}'], 'constnames': [], 'constvalues': []}, {'type': 'geometry_msgs/Vector3', 'fieldnames': ['x', 'y', 'z'], 'fieldtypes': ['float64', 'float64', 'float64'], 'fieldarraylen': [-1, -1, -1], 'examples': ['0.0', '0.0', '0.0'], 'constnames': [], 'constvalues': []}]}\n"
     ]
    }
   ],
   "execution_count": 30
  },
  {
   "cell_type": "code",
   "metadata": {},
   "source": [
    "# Sanity check to see if we are connected\n",
    "print('Verifying the ROS target is connected?', client.is_connected)\n",
    "# # 构建消息的 Header 字段\n",
    "# header = {\n",
    "#     'seq': 0,\n",
    "#     'stamp': roslibpy.Time.now(),\n",
    "#     'frame_id': 'base_link'  # 假设坐标系为 base_link\n",
    "# }\n",
    "#\n",
    "# # 构建 JointJog 消息\n",
    "# joint_names = ['joint1', 'joint2', 'joint3', 'joint4', 'joint5', 'joint6']  # 假设有 6 个关节\n",
    "# displacements = [0.1, -0.1, 0.05, 0.0, -0.05, 0.0]  # 各关节的位移量，单位为弧度\n",
    "# velocities = [0.05, 0.05, 0.05, 0.05, 0.05, 0.05]  # 各关节的速度，单位为弧度/秒\n",
    "# duration = 2.0  # 持续时间，单位为秒\n",
    "#\n",
    "# # 构建控制消息\n",
    "# joint_jog_message = {\n",
    "#     'header': header,\n",
    "#     'joint_names': joint_names,\n",
    "#     'displacements': displacements,\n",
    "#     'velocities': velocities,\n",
    "#     'duration': duration\n",
    "# }\n",
    "#\n",
    "# # 创建 Topic 实例，发布到 /default_move_group/joint_jog 话题\n",
    "# joint_jog_topic = roslibpy.Topic(client, '/default_move_group/joint_jog', 'control_msgs/JointJog')\n",
    "#\n",
    "# # 发布控制消息\n",
    "# joint_jog_topic.publish(roslibpy.Message(joint_jog_message))\n",
    "\n",
    "def on_joint_states(message):\n",
    "    print(message)\n",
    "\n",
    "# joint_states_client = roslibpy.Topic(client, '/robot/joint_states', 'sensor_msgs/JointState')\n",
    "joint_states_client = listener = roslibpy.Topic(\n",
    "    client, '/devices/robotiqd/gripper_state', 'gripper_msgs/GripperState'\n",
    ")\n",
    "joint_states_client.subscribe(on_joint_states)\n",
    "\n",
    "try:\n",
    "    while True:\n",
    "        time.sleep(0.02)\n",
    "except KeyboardInterrupt:\n",
    "    client.terminate()\n"
   ],
   "outputs": [],
   "execution_count": null
  },
  {
   "metadata": {
    "ExecuteTime": {
     "end_time": "2025-04-09T09:02:38.478544Z",
     "start_time": "2025-04-09T09:02:37.996617Z"
    }
   },
   "cell_type": "code",
   "source": [
    "services = client.get_services()\n",
    "for service in tqdm(services):\n",
    "    if \"default_move_group\" in service.lower():\n",
    "        print(service)\n",
    "        service_type = client.get_service_type(service)\n",
    "        print('service_type:', service_type)\n",
    "\n",
    "# publisher = roslibpy.Topic(\n",
    "#     client, \"/devices/robotiqd/grip/goal\",\n",
    "#     \"gripper_msgs/GripperBasicCommandActionGoal\"\n",
    "# )\n",
    "# publisher.publish(roslibpy.Message({\n",
    "#     \"goal\": {\n",
    "#         \"action\": 2  # 0:GRIP, 1:RELEASE, 2:TOGGLE\n",
    "#     }\n",
    "# }))"
   ],
   "outputs": [
    {
     "name": "stderr",
     "output_type": "stream",
     "text": [
      " 23%|██▎       | 31/133 [00:00<00:00, 209.07it/s]"
     ]
    },
    {
     "name": "stdout",
     "output_type": "stream",
     "text": [
      "/default_move_group/set_parameters\n",
      "service_type: dynamic_reconfigure/Reconfigure\n",
      "/default_move_group/hidden_meshes_srv\n",
      "service_type: commander/GetHiddenMesh\n",
      "/default_move_group/get_joint_angles\n",
      "service_type: commander/GetJointAngles\n",
      "/default_move_group/get_tcp\n"
     ]
    },
    {
     "name": "stderr",
     "output_type": "stream",
     "text": [
      "100%|██████████| 133/133 [00:00<00:00, 430.46it/s]"
     ]
    },
    {
     "name": "stdout",
     "output_type": "stream",
     "text": [
      "service_type: commander/GetTransformStamped\n",
      "/default_move_group/ik\n",
      "service_type: commander/GetPose\n",
      "/default_move_group/fk\n",
      "service_type: commander/ForwardKinematics\n"
     ]
    },
    {
     "name": "stderr",
     "output_type": "stream",
     "text": [
      "\n"
     ]
    }
   ],
   "execution_count": 17
  },
  {
   "metadata": {
    "ExecuteTime": {
     "end_time": "2025-04-09T09:02:09.493163Z",
     "start_time": "2025-04-09T09:02:09.488602Z"
    }
   },
   "cell_type": "code",
   "source": [
    "def on_action(message):\n",
    "    print(message)\n",
    "actions = client.get_action_servers(on_action)\n",
    "print(actions)"
   ],
   "outputs": [
    {
     "name": "stdout",
     "output_type": "stream",
     "text": [
      "None\n"
     ]
    }
   ],
   "execution_count": 16
  },
  {
   "metadata": {
    "ExecuteTime": {
     "end_time": "2025-04-10T03:44:07.478919Z",
     "start_time": "2025-04-10T03:43:59.310787Z"
    }
   },
   "cell_type": "code",
   "source": [
    "\"\"\"\n",
    "Home TCP Pose:\n",
    "Ori(Euler):\n",
    "    Roll(X): -180\n",
    "    Pitch(Y): 0\n",
    "    Yaw(Z): 0\n",
    "Ori(Quat):\n",
    "    x: -1\n",
    "    y: 0\n",
    "    z: 0\n",
    "    w: 0\n",
    "Coords:\n",
    "    x:\n",
    "    y:\n",
    "    z:\n",
    "\"\"\"\n",
    "\n",
    "# Ori\n",
    "timeout = 30\n",
    "goal_info = []\n",
    "motion_goal_settings = {  # Dictionary in case of simple motion\n",
    "    'pose': {\n",
    "        'position': {'x': 0,\n",
    "                     'y': 0.3,\n",
    "                     'z': 0.5},\n",
    "        'orientation': {'x': -1,\n",
    "                        'y': 0,\n",
    "                        'z': 0,\n",
    "                        'w': 0},\n",
    "    },\n",
    "    'frame_id': 'world',  # Default frame\n",
    "    'max_velocity': {'linear': 0.03,  ## Default velocities\n",
    "                     'angular': 0.03},\n",
    "    'max_joint_velocity': 0.03,\n",
    "    'max_joint_acceleration': 0.03,\n",
    "    'blend': {'linear': 0.0,\n",
    "              'angular': 0.0\n",
    "              }\n",
    "}\n",
    "goal_info.append(motion_goal_settings)\n",
    "\n",
    "service = roslibpy.Service(client, '/robot/switch_controller', 'inovo_driver/SwitchControllerGroup')\n",
    "request = roslibpy.ServiceRequest({'name': 'trajectory'})\n",
    "result = service.call(request)\n",
    "\n",
    "action_client = roslibpy.actionlib.ActionClient(\n",
    "            client, '/default_move_group/move',\n",
    "            'commander_msgs/MotionAction')\n",
    "\n",
    "message_ = {\n",
    "    'motion_sequence': goal_info}  ## Creating a dictionary that looks the same as the simple motion\n",
    "\n",
    "goal = roslibpy.actionlib.Goal(action_client, roslibpy.Message(message_))\n",
    "# goal.on('feedback', lambda f: print(f))\n",
    "goal.on(\"feedback\", lambda f: print(f))\n",
    "# goal.on('feedback', lambda f: print(f))\n",
    "goal.on(\"feedback\", lambda f: print(f))\n",
    "## Start the goal - this is where the robot will start moving!\n",
    "goal.send()\n",
    "\n",
    "result = goal.wait(timeout)\n",
    "# Clean up the action client\n",
    "action_client.dispose()"
   ],
   "outputs": [],
   "execution_count": 14
  },
  {
   "metadata": {
    "ExecuteTime": {
     "end_time": "2025-04-10T03:44:19.332198Z",
     "start_time": "2025-04-10T03:44:08.877530Z"
    }
   },
   "cell_type": "code",
   "source": [
    "\"\"\"\n",
    "Joint State:\n",
    "Pos(1-6):\n",
    "    0, 0, 1.57, 3.14, -1.57, 0\n",
    "\"\"\"\n",
    "joint_names = ['j1', 'j2', 'j3', 'j4', 'j5', 'j6']\n",
    "trajectory_goal_settings = {  # Dictionary in case of trajectory ### WIP ###\n",
    "    'positions': [0, 0, 1.57, 0, 1.57, 3.14],\n",
    "    'velocities': [0.01] * 6,\n",
    "    'time_from_start': {'secs': 10}  # Default time\n",
    "}\n",
    "trajectory_goals = [trajectory_goal_settings]\n",
    "\n",
    "service = roslibpy.Service(client, '/robot/switch_controller', 'inovo_driver/SwitchControllerGroup')\n",
    "request = roslibpy.ServiceRequest({'name': 'trajectory'})\n",
    "result = service.call(request)\n",
    "# print('Service response: {}'.format(result))\n",
    "\n",
    "# Setting up the client for the trajectory action\n",
    "action_client = roslibpy.actionlib.ActionClient(client, '/robot/joint_trajectory_controller/follow_joint_trajectory', 'control_msgs/FollowJointTrajectoryAction')\n",
    "\n",
    "message_ = {\n",
    "    'trajectory': {  # Compiling the message of different dictionaries and arrays to be sent to the server\n",
    "        'joint_names': joint_names,\n",
    "        'points': trajectory_goals\n",
    "    }}\n",
    "\n",
    "goal = roslibpy.actionlib.Goal(action_client, roslibpy.Message(message_))\n",
    "\n",
    "goal.on('feedback', lambda f: print(f))\n",
    "goal.send()\n",
    "print(\"[DEBUG] waiting...\")\n",
    "result = goal.wait(timeout)\n",
    "print(\"[DEBUG] finished waiting\")\n",
    "action_client.dispose()"
   ],
   "outputs": [
    {
     "name": "stdout",
     "output_type": "stream",
     "text": [
      "[DEBUG] waiting...\n",
      "[DEBUG] finished waiting\n"
     ]
    }
   ],
   "execution_count": 15
  }
 ],
 "metadata": {
  "kernelspec": {
   "display_name": "ros_env",
   "language": "python",
   "name": "python3"
  },
  "language_info": {
   "codemirror_mode": {
    "name": "ipython",
    "version": 3
   },
   "file_extension": ".py",
   "mimetype": "text/x-python",
   "name": "python",
   "nbconvert_exporter": "python",
   "pygments_lexer": "ipython3",
   "version": "3.11.11"
  }
 },
 "nbformat": 4,
 "nbformat_minor": 2
}
